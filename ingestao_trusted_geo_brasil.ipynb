{
 "cells": [
  {
   "cell_type": "code",
   "execution_count": 1,
   "id": "e0a37507",
   "metadata": {},
   "outputs": [],
   "source": [
    "import pandas as pd\n",
    "import requests\n",
    "import numpy as np\n",
    "import time\n",
    "import geopandas as gp\n",
    "import matplotlib\n",
    "import matplotlib.pyplot as plt\n",
    "import lxml\n",
    "import os\n",
    "from shapely.geometry import Point\n",
    "from adjustText import adjust_text\n",
    "from bs4 import BeautifulSoup\n",
    "from tqdm import tqdm\n",
    "from tqdm import trange\n",
    "from datetime import datetime\n",
    "\n",
    "%matplotlib inline"
   ]
  },
  {
   "cell_type": "code",
   "execution_count": 2,
   "id": "d13e11d9",
   "metadata": {},
   "outputs": [],
   "source": [
    "geo_brasil = gp.read_file('C:/Users/crash/Desktop/raw_geo_brasil.shp')"
   ]
  },
  {
   "cell_type": "code",
   "execution_count": 3,
   "id": "fada7401",
   "metadata": {},
   "outputs": [
    {
     "data": {
      "text/html": [
       "<div>\n",
       "<style scoped>\n",
       "    .dataframe tbody tr th:only-of-type {\n",
       "        vertical-align: middle;\n",
       "    }\n",
       "\n",
       "    .dataframe tbody tr th {\n",
       "        vertical-align: top;\n",
       "    }\n",
       "\n",
       "    .dataframe thead th {\n",
       "        text-align: right;\n",
       "    }\n",
       "</style>\n",
       "<table border=\"1\" class=\"dataframe\">\n",
       "  <thead>\n",
       "    <tr style=\"text-align: right;\">\n",
       "      <th></th>\n",
       "      <th>CD_MUN</th>\n",
       "      <th>NM_MUN</th>\n",
       "      <th>SIGLA_UF</th>\n",
       "      <th>AREA_KM2</th>\n",
       "      <th>geometry</th>\n",
       "    </tr>\n",
       "  </thead>\n",
       "  <tbody>\n",
       "    <tr>\n",
       "      <th>0</th>\n",
       "      <td>1100015</td>\n",
       "      <td>Alta Floresta D'Oeste</td>\n",
       "      <td>RO</td>\n",
       "      <td>7067.127</td>\n",
       "      <td>POLYGON ((-62.00806 -12.13379, -62.00784 -12.2...</td>\n",
       "    </tr>\n",
       "    <tr>\n",
       "      <th>1</th>\n",
       "      <td>1100023</td>\n",
       "      <td>Ariquemes</td>\n",
       "      <td>RO</td>\n",
       "      <td>4426.571</td>\n",
       "      <td>POLYGON ((-63.17933 -10.13924, -63.17746 -10.1...</td>\n",
       "    </tr>\n",
       "    <tr>\n",
       "      <th>2</th>\n",
       "      <td>1100031</td>\n",
       "      <td>Cabixi</td>\n",
       "      <td>RO</td>\n",
       "      <td>1314.352</td>\n",
       "      <td>POLYGON ((-60.52408 -13.32137, -60.37162 -13.3...</td>\n",
       "    </tr>\n",
       "    <tr>\n",
       "      <th>3</th>\n",
       "      <td>1100049</td>\n",
       "      <td>Cacoal</td>\n",
       "      <td>RO</td>\n",
       "      <td>3793.000</td>\n",
       "      <td>POLYGON ((-61.35502 -11.50452, -61.35524 -11.5...</td>\n",
       "    </tr>\n",
       "    <tr>\n",
       "      <th>4</th>\n",
       "      <td>1100056</td>\n",
       "      <td>Cerejeiras</td>\n",
       "      <td>RO</td>\n",
       "      <td>2783.300</td>\n",
       "      <td>POLYGON ((-60.82135 -13.11910, -60.81773 -13.1...</td>\n",
       "    </tr>\n",
       "  </tbody>\n",
       "</table>\n",
       "</div>"
      ],
      "text/plain": [
       "    CD_MUN                 NM_MUN SIGLA_UF  AREA_KM2  \\\n",
       "0  1100015  Alta Floresta D'Oeste       RO  7067.127   \n",
       "1  1100023              Ariquemes       RO  4426.571   \n",
       "2  1100031                 Cabixi       RO  1314.352   \n",
       "3  1100049                 Cacoal       RO  3793.000   \n",
       "4  1100056             Cerejeiras       RO  2783.300   \n",
       "\n",
       "                                            geometry  \n",
       "0  POLYGON ((-62.00806 -12.13379, -62.00784 -12.2...  \n",
       "1  POLYGON ((-63.17933 -10.13924, -63.17746 -10.1...  \n",
       "2  POLYGON ((-60.52408 -13.32137, -60.37162 -13.3...  \n",
       "3  POLYGON ((-61.35502 -11.50452, -61.35524 -11.5...  \n",
       "4  POLYGON ((-60.82135 -13.11910, -60.81773 -13.1...  "
      ]
     },
     "execution_count": 3,
     "metadata": {},
     "output_type": "execute_result"
    }
   ],
   "source": [
    "geo_brasil.head()"
   ]
  },
  {
   "cell_type": "code",
   "execution_count": 4,
   "id": "f95bba31",
   "metadata": {},
   "outputs": [
    {
     "data": {
      "text/html": [
       "<div>\n",
       "<style scoped>\n",
       "    .dataframe tbody tr th:only-of-type {\n",
       "        vertical-align: middle;\n",
       "    }\n",
       "\n",
       "    .dataframe tbody tr th {\n",
       "        vertical-align: top;\n",
       "    }\n",
       "\n",
       "    .dataframe thead th {\n",
       "        text-align: right;\n",
       "    }\n",
       "</style>\n",
       "<table border=\"1\" class=\"dataframe\">\n",
       "  <thead>\n",
       "    <tr style=\"text-align: right;\">\n",
       "      <th></th>\n",
       "      <th>CD_MUN</th>\n",
       "      <th>NM_MUN</th>\n",
       "      <th>SIGLA_UF</th>\n",
       "      <th>geometry</th>\n",
       "      <th>distancia_km</th>\n",
       "    </tr>\n",
       "  </thead>\n",
       "  <tbody>\n",
       "    <tr>\n",
       "      <th>0</th>\n",
       "      <td>1100015</td>\n",
       "      <td>Alta Floresta D'Oeste</td>\n",
       "      <td>RO</td>\n",
       "      <td>POLYGON ((-62.00806 -12.13379, -62.00784 -12.2...</td>\n",
       "      <td>7km</td>\n",
       "    </tr>\n",
       "    <tr>\n",
       "      <th>1</th>\n",
       "      <td>1100023</td>\n",
       "      <td>Ariquemes</td>\n",
       "      <td>RO</td>\n",
       "      <td>POLYGON ((-63.17933 -10.13924, -63.17746 -10.1...</td>\n",
       "      <td>4km</td>\n",
       "    </tr>\n",
       "    <tr>\n",
       "      <th>2</th>\n",
       "      <td>1100031</td>\n",
       "      <td>Cabixi</td>\n",
       "      <td>RO</td>\n",
       "      <td>POLYGON ((-60.52408 -13.32137, -60.37162 -13.3...</td>\n",
       "      <td>1km</td>\n",
       "    </tr>\n",
       "    <tr>\n",
       "      <th>3</th>\n",
       "      <td>1100049</td>\n",
       "      <td>Cacoal</td>\n",
       "      <td>RO</td>\n",
       "      <td>POLYGON ((-61.35502 -11.50452, -61.35524 -11.5...</td>\n",
       "      <td>4km</td>\n",
       "    </tr>\n",
       "    <tr>\n",
       "      <th>4</th>\n",
       "      <td>1100056</td>\n",
       "      <td>Cerejeiras</td>\n",
       "      <td>RO</td>\n",
       "      <td>POLYGON ((-60.82135 -13.11910, -60.81773 -13.1...</td>\n",
       "      <td>3km</td>\n",
       "    </tr>\n",
       "  </tbody>\n",
       "</table>\n",
       "</div>"
      ],
      "text/plain": [
       "    CD_MUN                 NM_MUN SIGLA_UF  \\\n",
       "0  1100015  Alta Floresta D'Oeste       RO   \n",
       "1  1100023              Ariquemes       RO   \n",
       "2  1100031                 Cabixi       RO   \n",
       "3  1100049                 Cacoal       RO   \n",
       "4  1100056             Cerejeiras       RO   \n",
       "\n",
       "                                            geometry distancia_km  \n",
       "0  POLYGON ((-62.00806 -12.13379, -62.00784 -12.2...          7km  \n",
       "1  POLYGON ((-63.17933 -10.13924, -63.17746 -10.1...          4km  \n",
       "2  POLYGON ((-60.52408 -13.32137, -60.37162 -13.3...          1km  \n",
       "3  POLYGON ((-61.35502 -11.50452, -61.35524 -11.5...          4km  \n",
       "4  POLYGON ((-60.82135 -13.11910, -60.81773 -13.1...          3km  "
      ]
     },
     "execution_count": 4,
     "metadata": {},
     "output_type": "execute_result"
    }
   ],
   "source": [
    "# efetuado a padronização do tipo categorico de dado de kilometragem\n",
    "\n",
    "# Define a função de conversão\n",
    "def km_format(x):\n",
    "    return '{:.0f}km'.format(x/1000)\n",
    "\n",
    "# Aplica a função à coluna 'distancia'\n",
    "geo_brasil['distancia_km'] = geo_brasil['AREA_KM2'].apply(km_format)\n",
    "geo_brasil = geo_brasil.drop(columns=['AREA_KM2'])\n",
    "\n",
    "geo_brasil.head()"
   ]
  },
  {
   "cell_type": "code",
   "execution_count": 5,
   "id": "6d7bbf9d",
   "metadata": {},
   "outputs": [
    {
     "name": "stderr",
     "output_type": "stream",
     "text": [
      "C:\\Users\\crash\\AppData\\Local\\Temp\\ipykernel_14744\\2798117001.py:1: UserWarning: Column names longer than 10 characters will be truncated when saved to ESRI Shapefile.\n",
      "  geo_brasil.to_file('trusted_geo_brasil.shp', driver='ESRI Shapefile')\n"
     ]
    }
   ],
   "source": [
    "geo_brasil.to_file('trusted_geo_brasil.shp', driver='ESRI Shapefile')"
   ]
  }
 ],
 "metadata": {
  "kernelspec": {
   "display_name": "Python 3 (ipykernel)",
   "language": "python",
   "name": "python3"
  },
  "language_info": {
   "codemirror_mode": {
    "name": "ipython",
    "version": 3
   },
   "file_extension": ".py",
   "mimetype": "text/x-python",
   "name": "python",
   "nbconvert_exporter": "python",
   "pygments_lexer": "ipython3",
   "version": "3.9.13"
  }
 },
 "nbformat": 4,
 "nbformat_minor": 5
}
