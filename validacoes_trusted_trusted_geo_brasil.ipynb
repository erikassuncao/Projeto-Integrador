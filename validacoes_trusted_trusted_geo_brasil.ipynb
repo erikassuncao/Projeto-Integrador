{
 "cells": [
  {
   "attachments": {},
   "cell_type": "markdown",
   "id": "3503bb91",
   "metadata": {},
   "source": [
    "# Plano de Teste"
   ]
  },
  {
   "attachments": {},
   "cell_type": "markdown",
   "id": "260f828d",
   "metadata": {},
   "source": [
    "### Testes na camada trusted para os dados sobre de geolocalização.\n",
    "Testes realizados após transformar os dataset de formato shapefile em csv\n"
   ]
  },
  {
   "cell_type": "code",
   "execution_count": 1,
   "id": "fa928be9",
   "metadata": {},
   "outputs": [],
   "source": [
    "#importando bibliotecas necessárias para os testes\n",
    "import pandas as pd\n",
    "import great_expectations as gx \n",
    "\n",
    "#Criar o df tax_df com as informacoes doa arquivo us_tax_data_2016.csv\n",
    "path ='./dados/validacoes_trusted/trusted_geo_brasil.csv'\n",
    "df_geo = pd.read_csv(path, delimiter=';', encoding=\"ansi\")"
   ]
  },
  {
   "cell_type": "code",
   "execution_count": 2,
   "id": "936e2a0a",
   "metadata": {},
   "outputs": [
    {
     "name": "stdout",
     "output_type": "stream",
     "text": [
      "    CD_MUN                 NM_MUN SIGLA_UF distancia_   \n",
      "0  1100015  Alta Floresta D'Oeste       RO        7km  \\\n",
      "1  1100023              Ariquemes       RO        4km   \n",
      "2  1100031                 Cabixi       RO        1km   \n",
      "\n",
      "                                            geometry  \n",
      "0  POLYGON ((-62.0080637729999 -12.1337851349999,...  \n",
      "1  POLYGON ((-63.179325881 -10.139244048, -63.177...  \n",
      "2  POLYGON ((-60.524079765 -13.32137253, -60.3716...  \n"
     ]
    }
   ],
   "source": [
    "# verificacao do layout do dataset\n",
    "print(df_geo.head(3))\n"
   ]
  },
  {
   "attachments": {},
   "cell_type": "markdown",
   "id": "d1031835",
   "metadata": {},
   "source": [
    "Crie uma expectation para utilizar no great expectation para relizações de algumas validações:"
   ]
  },
  {
   "cell_type": "code",
   "execution_count": 3,
   "id": "a88a12de",
   "metadata": {},
   "outputs": [
    {
     "data": {
      "text/html": [
       "<div>\n",
       "<style scoped>\n",
       "    .dataframe tbody tr th:only-of-type {\n",
       "        vertical-align: middle;\n",
       "    }\n",
       "\n",
       "    .dataframe tbody tr th {\n",
       "        vertical-align: top;\n",
       "    }\n",
       "\n",
       "    .dataframe thead th {\n",
       "        text-align: right;\n",
       "    }\n",
       "</style>\n",
       "<table border=\"1\" class=\"dataframe\">\n",
       "  <thead>\n",
       "    <tr style=\"text-align: right;\">\n",
       "      <th></th>\n",
       "      <th>CD_MUN</th>\n",
       "      <th>NM_MUN</th>\n",
       "      <th>SIGLA_UF</th>\n",
       "      <th>distancia_</th>\n",
       "      <th>geometry</th>\n",
       "    </tr>\n",
       "  </thead>\n",
       "  <tbody>\n",
       "    <tr>\n",
       "      <th>0</th>\n",
       "      <td>1100015</td>\n",
       "      <td>Alta Floresta D'Oeste</td>\n",
       "      <td>RO</td>\n",
       "      <td>7km</td>\n",
       "      <td>POLYGON ((-62.0080637729999 -12.1337851349999,...</td>\n",
       "    </tr>\n",
       "    <tr>\n",
       "      <th>1</th>\n",
       "      <td>1100023</td>\n",
       "      <td>Ariquemes</td>\n",
       "      <td>RO</td>\n",
       "      <td>4km</td>\n",
       "      <td>POLYGON ((-63.179325881 -10.139244048, -63.177...</td>\n",
       "    </tr>\n",
       "    <tr>\n",
       "      <th>2</th>\n",
       "      <td>1100031</td>\n",
       "      <td>Cabixi</td>\n",
       "      <td>RO</td>\n",
       "      <td>1km</td>\n",
       "      <td>POLYGON ((-60.524079765 -13.32137253, -60.3716...</td>\n",
       "    </tr>\n",
       "  </tbody>\n",
       "</table>\n",
       "</div>"
      ],
      "text/plain": [
       "    CD_MUN                 NM_MUN SIGLA_UF distancia_   \n",
       "0  1100015  Alta Floresta D'Oeste       RO        7km  \\\n",
       "1  1100023              Ariquemes       RO        4km   \n",
       "2  1100031                 Cabixi       RO        1km   \n",
       "\n",
       "                                            geometry  \n",
       "0  POLYGON ((-62.0080637729999 -12.1337851349999,...  \n",
       "1  POLYGON ((-63.179325881 -10.139244048, -63.177...  \n",
       "2  POLYGON ((-60.524079765 -13.32137253, -60.3716...  "
      ]
     },
     "execution_count": 3,
     "metadata": {},
     "output_type": "execute_result"
    }
   ],
   "source": [
    "df_gx = gx.dataset.PandasDataset(df_geo)\n",
    "df_gx.head(3)"
   ]
  },
  {
   "attachments": {},
   "cell_type": "markdown",
   "id": "b67b9032",
   "metadata": {},
   "source": [
    "``1`` Verifica se o código município (CD_MUN) contém apenas valores únicos.\n",
    "\n",
    "Usar a função ``expect_column_values_to_be_unique`` para definir essa expectativa"
   ]
  },
  {
   "cell_type": "code",
   "execution_count": 4,
   "id": "65c60654",
   "metadata": {},
   "outputs": [
    {
     "data": {
      "text/plain": [
       "{\n",
       "  \"success\": true,\n",
       "  \"exception_info\": {\n",
       "    \"raised_exception\": false,\n",
       "    \"exception_traceback\": null,\n",
       "    \"exception_message\": null\n",
       "  },\n",
       "  \"meta\": {},\n",
       "  \"result\": {\n",
       "    \"element_count\": 5572,\n",
       "    \"missing_count\": 0,\n",
       "    \"missing_percent\": 0.0,\n",
       "    \"unexpected_count\": 0,\n",
       "    \"unexpected_percent\": 0.0,\n",
       "    \"unexpected_percent_total\": 0.0,\n",
       "    \"unexpected_percent_nonmissing\": 0.0,\n",
       "    \"partial_unexpected_list\": []\n",
       "  }\n",
       "}"
      ]
     },
     "execution_count": 4,
     "metadata": {},
     "output_type": "execute_result"
    }
   ],
   "source": [
    "validation_result = df_gx.expect_column_values_to_be_unique(column = 'CD_MUN')\n",
    "validation_result"
   ]
  },
  {
   "cell_type": "code",
   "execution_count": 5,
   "id": "6f80ccf0",
   "metadata": {},
   "outputs": [
    {
     "name": "stdout",
     "output_type": "stream",
     "text": [
      "A coluna de código de município contem apenas valores únicos\n"
     ]
    }
   ],
   "source": [
    "if validation_result['success']:\n",
    "    print('A coluna de código de município contem apenas valores únicos')\n",
    "else:\n",
    "    print('A coluna código de município possui valores duplicados')"
   ]
  },
  {
   "attachments": {},
   "cell_type": "markdown",
   "id": "2816896c",
   "metadata": {},
   "source": [
    "``2`` Validação de valores nulos em uma coluna\n"
   ]
  },
  {
   "cell_type": "code",
   "execution_count": 6,
   "id": "160c997c",
   "metadata": {},
   "outputs": [
    {
     "data": {
      "text/plain": [
       "{\n",
       "  \"success\": true,\n",
       "  \"exception_info\": {\n",
       "    \"raised_exception\": false,\n",
       "    \"exception_traceback\": null,\n",
       "    \"exception_message\": null\n",
       "  },\n",
       "  \"meta\": {},\n",
       "  \"result\": {\n",
       "    \"element_count\": 5572,\n",
       "    \"unexpected_count\": 0,\n",
       "    \"unexpected_percent\": 0.0,\n",
       "    \"unexpected_percent_total\": 0.0,\n",
       "    \"partial_unexpected_list\": []\n",
       "  }\n",
       "}"
      ]
     },
     "execution_count": 6,
     "metadata": {},
     "output_type": "execute_result"
    }
   ],
   "source": [
    "validation_result = df_gx.expect_column_values_to_not_be_null(column= 'CD_MUN')\n",
    "validation_result"
   ]
  },
  {
   "cell_type": "code",
   "execution_count": 7,
   "id": "4a59a206",
   "metadata": {},
   "outputs": [
    {
     "name": "stdout",
     "output_type": "stream",
     "text": [
      "A coluna código do município não possui valores nulos\n"
     ]
    }
   ],
   "source": [
    "if validation_result['success']:\n",
    "    print('A coluna código do município não possui valores nulos')\n",
    "else:\n",
    "    print('A coluna código do município possui valores nulos, verificar a necessidade de realizar tratamento no campo')"
   ]
  },
  {
   "attachments": {},
   "cell_type": "markdown",
   "id": "86336cfa",
   "metadata": {},
   "source": [
    "``3`` Validação de siglas de UF incorretos"
   ]
  },
  {
   "cell_type": "code",
   "execution_count": 8,
   "metadata": {},
   "outputs": [
    {
     "name": "stdout",
     "output_type": "stream",
     "text": [
      "A coluna sigla UF não possui valor(es) incorreto(s) na coluna SIGLA_UF.\n"
     ]
    }
   ],
   "source": [
    "# Lista de siglas de UF válidas no Brasil\n",
    "uf_validas = ['AC', 'AL', 'AM', 'AP', 'BA', 'CE', 'DF', 'ES', 'GO', 'MA',\n",
    "              'MG', 'MS', 'MT', 'PA', 'PB', 'PE', 'PI', 'PR', 'RJ', 'RN',\n",
    "              'RO', 'RR', 'RS', 'SC', 'SE', 'SP', 'TO']\n",
    "\n",
    "# Filtrar valores de 'uf' que não estão na lista de UF válidas\n",
    "uf_invalida = df_geo[~df_geo['SIGLA_UF'].isin(uf_validas)]\n",
    "\n",
    "if uf_invalida.empty:\n",
    "    print('A coluna sigla UF não possui valor(es) incorreto(s) na coluna SIGLA_UF.')\n",
    "else:\n",
    "    print(\"Existe(m) valor(es) incorreto(s) na coluna 'uf':\")\n",
    "    print(uf_invalida['SIGLA_UF'].unique())\n"
   ]
  },
  {
   "cell_type": "code",
   "execution_count": 9,
   "id": "fa4c1149",
   "metadata": {},
   "outputs": [
    {
     "name": "stdout",
     "output_type": "stream",
     "text": [
      "Quantidade de Siglas de estado incorreta(s): 0\n"
     ]
    }
   ],
   "source": [
    "uf_invalida_count = uf_invalida['SIGLA_UF'].count()\n",
    "print(\"Quantidade de Siglas de estado incorreta(s):\", uf_invalida_count)\n"
   ]
  },
  {
   "attachments": {},
   "cell_type": "markdown",
   "id": "a1471899",
   "metadata": {},
   "source": [
    "``4`` Verifica se existe(m) distância que não esteja(m) em km."
   ]
  },
  {
   "cell_type": "code",
   "execution_count": 10,
   "id": "db4ffc97",
   "metadata": {},
   "outputs": [
    {
     "name": "stdout",
     "output_type": "stream",
     "text": [
      "Todos os valores na coluna distancia_ contêm a palavra 'km'.\n"
     ]
    }
   ],
   "source": [
    "# Verificar se não há valores na coluna 'distancia_' que contenham a palavra \"km\"\n",
    "distancia_sem_km = df_geo[~df_geo['distancia_'].str.contains('km', case=False, na=False)]\n",
    "\n",
    "if distancia_sem_km.empty:\n",
    "    print(\"Todos os valores na coluna distancia_ contêm a palavra 'km'.\")\n",
    "else:\n",
    "    print(\"Existem valores na coluna distancia_ que não contêm a palavra km:\")\n",
    "    print('Valor(es) incorreto(s):')\n",
    "    print(distancia_sem_km['distancia_'].to_string(index=False))\n"
   ]
  }
 ],
 "metadata": {
  "kernelspec": {
   "display_name": "Python 3",
   "language": "python",
   "name": "python3"
  },
  "language_info": {
   "codemirror_mode": {
    "name": "ipython",
    "version": 3
   },
   "file_extension": ".py",
   "mimetype": "text/x-python",
   "name": "python",
   "nbconvert_exporter": "python",
   "pygments_lexer": "ipython3",
   "version": "3.11.2"
  }
 },
 "nbformat": 4,
 "nbformat_minor": 5
}
