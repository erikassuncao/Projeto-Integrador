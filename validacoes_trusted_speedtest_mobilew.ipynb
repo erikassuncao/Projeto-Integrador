{
 "cells": [
  {
   "attachments": {},
   "cell_type": "markdown",
   "id": "3503bb91",
   "metadata": {},
   "source": [
    "# Plano de Teste"
   ]
  },
  {
   "attachments": {},
   "cell_type": "markdown",
   "id": "260f828d",
   "metadata": {},
   "source": [
    "### Testes na camada trusted para os dados sobre de internet móvel.\n",
    "Testes realizados após transformar os dataset de formato shapefile em csv\n"
   ]
  },
  {
   "cell_type": "code",
   "execution_count": 1,
   "id": "fa928be9",
   "metadata": {},
   "outputs": [],
   "source": [
    "#importando bibliotecas necessárias para os testes\n",
    "import pandas as pd\n",
    "import great_expectations as gx \n",
    "\n",
    "#Criar o df tax_df com as informacoes doa arquivo us_tax_data_2016.csv\n",
    "path ='./dados/validacoes_trusted/trusted_speedtest_mobile.csv'\n",
    "df_mobile = pd.read_csv(path, delimiter=';', encoding=\"ansi\")"
   ]
  },
  {
   "cell_type": "code",
   "execution_count": 2,
   "id": "936e2a0a",
   "metadata": {},
   "outputs": [
    {
     "name": "stdout",
     "output_type": "stream",
     "text": [
      "           quadkey  avg_d_kbps  avg_u_kbps  avg_lat_ms  tests  devices   \n",
      "0  323230233223102       15591       17249          26      4        2  \\\n",
      "1  323230233232230       16998       20375          25      2        1   \n",
      "\n",
      "   index_righ   CD_MUN  latitude  longitude        date  quarter network_ty   \n",
      "0         138  1400100  2.847033 -60.751648  2022-01-01        1     mobile  \\\n",
      "1         138  1400100  2.819601 -60.718689  2022-01-01        1     mobile   \n",
      "\n",
      "                                            geometry  \n",
      "0  POLYGON ((-60.75439453125 2.8497764266656, -60...  \n",
      "1  POLYGON ((-60.721435546875 2.82234424689409, -...  \n"
     ]
    }
   ],
   "source": [
    "# verificacao do layout do dataset\n",
    "print(df_mobile.head(2))\n"
   ]
  },
  {
   "attachments": {},
   "cell_type": "markdown",
   "id": "d1031835",
   "metadata": {},
   "source": [
    "Crie uma expectation para utilizar no great expectation para relizações de algumas validações:"
   ]
  },
  {
   "cell_type": "code",
   "execution_count": 3,
   "id": "a88a12de",
   "metadata": {},
   "outputs": [
    {
     "data": {
      "text/html": [
       "<div>\n",
       "<style scoped>\n",
       "    .dataframe tbody tr th:only-of-type {\n",
       "        vertical-align: middle;\n",
       "    }\n",
       "\n",
       "    .dataframe tbody tr th {\n",
       "        vertical-align: top;\n",
       "    }\n",
       "\n",
       "    .dataframe thead th {\n",
       "        text-align: right;\n",
       "    }\n",
       "</style>\n",
       "<table border=\"1\" class=\"dataframe\">\n",
       "  <thead>\n",
       "    <tr style=\"text-align: right;\">\n",
       "      <th></th>\n",
       "      <th>quadkey</th>\n",
       "      <th>avg_d_kbps</th>\n",
       "      <th>avg_u_kbps</th>\n",
       "      <th>avg_lat_ms</th>\n",
       "      <th>tests</th>\n",
       "      <th>devices</th>\n",
       "      <th>index_righ</th>\n",
       "      <th>CD_MUN</th>\n",
       "      <th>latitude</th>\n",
       "      <th>longitude</th>\n",
       "      <th>date</th>\n",
       "      <th>quarter</th>\n",
       "      <th>network_ty</th>\n",
       "      <th>geometry</th>\n",
       "    </tr>\n",
       "  </thead>\n",
       "  <tbody>\n",
       "    <tr>\n",
       "      <th>0</th>\n",
       "      <td>323230233223102</td>\n",
       "      <td>15591</td>\n",
       "      <td>17249</td>\n",
       "      <td>26</td>\n",
       "      <td>4</td>\n",
       "      <td>2</td>\n",
       "      <td>138</td>\n",
       "      <td>1400100</td>\n",
       "      <td>2.847033</td>\n",
       "      <td>-60.751648</td>\n",
       "      <td>2022-01-01</td>\n",
       "      <td>1</td>\n",
       "      <td>mobile</td>\n",
       "      <td>POLYGON ((-60.75439453125 2.8497764266656, -60...</td>\n",
       "    </tr>\n",
       "    <tr>\n",
       "      <th>1</th>\n",
       "      <td>323230233232230</td>\n",
       "      <td>16998</td>\n",
       "      <td>20375</td>\n",
       "      <td>25</td>\n",
       "      <td>2</td>\n",
       "      <td>1</td>\n",
       "      <td>138</td>\n",
       "      <td>1400100</td>\n",
       "      <td>2.819601</td>\n",
       "      <td>-60.718689</td>\n",
       "      <td>2022-01-01</td>\n",
       "      <td>1</td>\n",
       "      <td>mobile</td>\n",
       "      <td>POLYGON ((-60.721435546875 2.82234424689409, -...</td>\n",
       "    </tr>\n",
       "    <tr>\n",
       "      <th>2</th>\n",
       "      <td>323232011001023</td>\n",
       "      <td>17268</td>\n",
       "      <td>8038</td>\n",
       "      <td>29</td>\n",
       "      <td>2</td>\n",
       "      <td>2</td>\n",
       "      <td>138</td>\n",
       "      <td>1400100</td>\n",
       "      <td>2.792168</td>\n",
       "      <td>-60.768127</td>\n",
       "      <td>2022-01-01</td>\n",
       "      <td>1</td>\n",
       "      <td>mobile</td>\n",
       "      <td>POLYGON ((-60.7708740234375 2.7949114196117, -...</td>\n",
       "    </tr>\n",
       "  </tbody>\n",
       "</table>\n",
       "</div>"
      ],
      "text/plain": [
       "           quadkey  avg_d_kbps  avg_u_kbps  avg_lat_ms  tests  devices   \n",
       "0  323230233223102       15591       17249          26      4        2  \\\n",
       "1  323230233232230       16998       20375          25      2        1   \n",
       "2  323232011001023       17268        8038          29      2        2   \n",
       "\n",
       "   index_righ   CD_MUN  latitude  longitude        date  quarter network_ty   \n",
       "0         138  1400100  2.847033 -60.751648  2022-01-01        1     mobile  \\\n",
       "1         138  1400100  2.819601 -60.718689  2022-01-01        1     mobile   \n",
       "2         138  1400100  2.792168 -60.768127  2022-01-01        1     mobile   \n",
       "\n",
       "                                            geometry  \n",
       "0  POLYGON ((-60.75439453125 2.8497764266656, -60...  \n",
       "1  POLYGON ((-60.721435546875 2.82234424689409, -...  \n",
       "2  POLYGON ((-60.7708740234375 2.7949114196117, -...  "
      ]
     },
     "execution_count": 3,
     "metadata": {},
     "output_type": "execute_result"
    }
   ],
   "source": [
    "df_gx = gx.dataset.PandasDataset(df_mobile)\n",
    "df_gx.head(3)"
   ]
  },
  {
   "attachments": {},
   "cell_type": "markdown",
   "id": "b67b9032",
   "metadata": {},
   "source": [
    "``1`` Verifica se o código município (CD_MUN) contém apenas valores únicos.\n",
    "\n",
    "Usar a função ``expect_column_values_to_be_unique`` para definir essa expectativa"
   ]
  },
  {
   "cell_type": "code",
   "execution_count": 4,
   "id": "65c60654",
   "metadata": {},
   "outputs": [
    {
     "data": {
      "text/plain": [
       "{\n",
       "  \"exception_info\": {\n",
       "    \"raised_exception\": false,\n",
       "    \"exception_traceback\": null,\n",
       "    \"exception_message\": null\n",
       "  },\n",
       "  \"result\": {\n",
       "    \"element_count\": 588373,\n",
       "    \"missing_count\": 0,\n",
       "    \"missing_percent\": 0.0,\n",
       "    \"unexpected_count\": 588342,\n",
       "    \"unexpected_percent\": 99.99473123341825,\n",
       "    \"unexpected_percent_total\": 99.99473123341825,\n",
       "    \"unexpected_percent_nonmissing\": 99.99473123341825,\n",
       "    \"partial_unexpected_list\": [\n",
       "      1400100,\n",
       "      1400100,\n",
       "      1400100,\n",
       "      1400100,\n",
       "      1400100,\n",
       "      1400100,\n",
       "      1400100,\n",
       "      1400100,\n",
       "      1400100,\n",
       "      1400100,\n",
       "      1400100,\n",
       "      1400100,\n",
       "      1400100,\n",
       "      1400100,\n",
       "      1400100,\n",
       "      1400100,\n",
       "      1400100,\n",
       "      1400100,\n",
       "      1400100,\n",
       "      1400100\n",
       "    ]\n",
       "  },\n",
       "  \"meta\": {},\n",
       "  \"success\": false\n",
       "}"
      ]
     },
     "execution_count": 4,
     "metadata": {},
     "output_type": "execute_result"
    }
   ],
   "source": [
    "validation_result = df_gx.expect_column_values_to_be_unique(column = 'CD_MUN')\n",
    "validation_result"
   ]
  },
  {
   "attachments": {},
   "cell_type": "markdown",
   "id": "f26b955a",
   "metadata": {},
   "source": [
    "Resultado da validação."
   ]
  },
  {
   "cell_type": "code",
   "execution_count": 5,
   "id": "f5676cbb",
   "metadata": {},
   "outputs": [
    {
     "name": "stdout",
     "output_type": "stream",
     "text": [
      "A coluna código de município possui valores duplicados\n"
     ]
    }
   ],
   "source": [
    "if validation_result['success']:\n",
    "    print('A coluna de código de município contem apenas valores únicos')\n",
    "else:\n",
    "    print('A coluna código de município possui valores duplicados')"
   ]
  },
  {
   "attachments": {},
   "cell_type": "markdown",
   "id": "2816896c",
   "metadata": {},
   "source": [
    "``2`` Validação de valores nulos em uma coluna\n"
   ]
  },
  {
   "cell_type": "code",
   "execution_count": 6,
   "id": "160c997c",
   "metadata": {},
   "outputs": [
    {
     "data": {
      "text/plain": [
       "{\n",
       "  \"exception_info\": {\n",
       "    \"raised_exception\": false,\n",
       "    \"exception_traceback\": null,\n",
       "    \"exception_message\": null\n",
       "  },\n",
       "  \"result\": {\n",
       "    \"element_count\": 588373,\n",
       "    \"unexpected_count\": 0,\n",
       "    \"unexpected_percent\": 0.0,\n",
       "    \"unexpected_percent_total\": 0.0,\n",
       "    \"partial_unexpected_list\": []\n",
       "  },\n",
       "  \"meta\": {},\n",
       "  \"success\": true\n",
       "}"
      ]
     },
     "execution_count": 6,
     "metadata": {},
     "output_type": "execute_result"
    }
   ],
   "source": [
    "validation_result = df_gx.expect_column_values_to_not_be_null(column= 'CD_MUN')\n",
    "validation_result"
   ]
  },
  {
   "cell_type": "code",
   "execution_count": 7,
   "id": "2edf3609",
   "metadata": {},
   "outputs": [
    {
     "name": "stdout",
     "output_type": "stream",
     "text": [
      "A coluna código do município não possui valores nulos\n"
     ]
    }
   ],
   "source": [
    "if validation_result['success']:\n",
    "    print('A coluna código do município não possui valores nulos')\n",
    "else:\n",
    "    print('A coluna código do município possui valores nulos, verificar a necessidade de realizar tratamento no campo')"
   ]
  },
  {
   "attachments": {},
   "cell_type": "markdown",
   "id": "8a793804",
   "metadata": {},
   "source": [
    "``3`` Verifica se há valores inválidos para latitude.\n"
   ]
  },
  {
   "cell_type": "code",
   "execution_count": 8,
   "id": "c8d66f92",
   "metadata": {},
   "outputs": [
    {
     "name": "stdout",
     "output_type": "stream",
     "text": [
      "Não há valores incorretos na coluna latitude.\n"
     ]
    }
   ],
   "source": [
    "latitude_invalida = df_gx[(df_gx['latitude'] < -90) | (df_gx['latitude'] > 90)]\n",
    "\n",
    "if latitude_invalida.empty:\n",
    "    print(\"Não há valores incorretos na coluna latitude.\")\n",
    "else:\n",
    "    print(\"Existe(m) valor(es) incorreto(s) na coluna latitude:\")\n",
    "    print('Valo(res) invalido(s):')\n",
    "    print(latitude_invalida['latitude'].to_string(index=False))"
   ]
  },
  {
   "cell_type": "code",
   "execution_count": 9,
   "id": "fa4c1149",
   "metadata": {},
   "outputs": [
    {
     "name": "stdout",
     "output_type": "stream",
     "text": [
      "Quantidade de valor(es) de latitude incorreto(s): 0\n"
     ]
    }
   ],
   "source": [
    "null_latitude_count = latitude_invalida['latitude'].count()\n",
    "print(\"Quantidade de valor(es) de latitude incorreto(s):\", null_latitude_count)\n"
   ]
  },
  {
   "cell_type": "code",
   "execution_count": 10,
   "id": "96c137b5",
   "metadata": {},
   "outputs": [
    {
     "name": "stdout",
     "output_type": "stream",
     "text": [
      "Não há valores incorretos na coluna longitude.\n"
     ]
    }
   ],
   "source": [
    "longitude_invalida = df_gx[(df_gx['longitude'] < -180) | (df_gx['longitude'] > 180)]\n",
    "\n",
    "if longitude_invalida.empty:\n",
    "    print(\"Não há valores incorretos na coluna longitude.\")\n",
    "else:\n",
    "    print(\"Existe(m) valor(es) incorreto(s) na coluna longitude:\")\n",
    "    print(longitude_invalida['longitude'].to_string(index=False))\n"
   ]
  },
  {
   "attachments": {},
   "cell_type": "markdown",
   "id": "a1471899",
   "metadata": {},
   "source": [
    "``4`` Verifica se há datas incorretas."
   ]
  },
  {
   "cell_type": "code",
   "execution_count": 11,
   "id": "42f83273",
   "metadata": {},
   "outputs": [
    {
     "name": "stdout",
     "output_type": "stream",
     "text": [
      "Não há valores incorretos na coluna de datas.\n"
     ]
    }
   ],
   "source": [
    "from datetime import datetime\n",
    "\n",
    "data_invalida = []\n",
    "\n",
    "for valor_data in df_gx['date']:\n",
    "    try:\n",
    "        datetime.strptime(valor_data, '%Y-%m-%d')\n",
    "    except ValueError:\n",
    "        data_invalida.append(valor_data)\n",
    "\n",
    "if len(data_invalida) == 0:\n",
    "    print(\"Não há valores incorretos na coluna de datas.\")\n",
    "else:\n",
    "    # Criar DataFrame com os valores incorretos\n",
    "    df_data_invalida = pd.DataFrame({'Data(s) Incorreta(s):': data_invalida})\n",
    "    print(\"Existe(m) valor(es) incorreto(s) na coluna de datas:\")\n",
    "    print(df_data_invalida.to_string(index=False))\n"
   ]
  }
 ],
 "metadata": {
  "kernelspec": {
   "display_name": "Python 3",
   "language": "python",
   "name": "python3"
  },
  "language_info": {
   "codemirror_mode": {
    "name": "ipython",
    "version": 3
   },
   "file_extension": ".py",
   "mimetype": "text/x-python",
   "name": "python",
   "nbconvert_exporter": "python",
   "pygments_lexer": "ipython3",
   "version": "3.11.2"
  }
 },
 "nbformat": 4,
 "nbformat_minor": 5
}
