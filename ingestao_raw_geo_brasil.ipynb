{
 "cells": [
  {
   "cell_type": "code",
   "execution_count": 5,
   "id": "e0a37507",
   "metadata": {},
   "outputs": [],
   "source": [
    "import pandas as pd\n",
    "import geopandas as gp"
   ]
  },
  {
   "cell_type": "code",
   "execution_count": 3,
   "id": "d13e11d9",
   "metadata": {},
   "outputs": [
    {
     "data": {
      "text/html": [
       "<div>\n",
       "<style scoped>\n",
       "    .dataframe tbody tr th:only-of-type {\n",
       "        vertical-align: middle;\n",
       "    }\n",
       "\n",
       "    .dataframe tbody tr th {\n",
       "        vertical-align: top;\n",
       "    }\n",
       "\n",
       "    .dataframe thead th {\n",
       "        text-align: right;\n",
       "    }\n",
       "</style>\n",
       "<table border=\"1\" class=\"dataframe\">\n",
       "  <thead>\n",
       "    <tr style=\"text-align: right;\">\n",
       "      <th></th>\n",
       "      <th>CD_MUN</th>\n",
       "      <th>NM_MUN</th>\n",
       "      <th>SIGLA_UF</th>\n",
       "      <th>AREA_KM2</th>\n",
       "      <th>geometry</th>\n",
       "    </tr>\n",
       "  </thead>\n",
       "  <tbody>\n",
       "    <tr>\n",
       "      <th>0</th>\n",
       "      <td>1100015</td>\n",
       "      <td>Alta Floresta D'Oeste</td>\n",
       "      <td>RO</td>\n",
       "      <td>7067.127</td>\n",
       "      <td>POLYGON ((-62.00806 -12.13379, -62.00784 -12.2...</td>\n",
       "    </tr>\n",
       "    <tr>\n",
       "      <th>1</th>\n",
       "      <td>1100023</td>\n",
       "      <td>Ariquemes</td>\n",
       "      <td>RO</td>\n",
       "      <td>4426.571</td>\n",
       "      <td>POLYGON ((-63.17933 -10.13924, -63.17746 -10.1...</td>\n",
       "    </tr>\n",
       "    <tr>\n",
       "      <th>2</th>\n",
       "      <td>1100031</td>\n",
       "      <td>Cabixi</td>\n",
       "      <td>RO</td>\n",
       "      <td>1314.352</td>\n",
       "      <td>POLYGON ((-60.52408 -13.32137, -60.37162 -13.3...</td>\n",
       "    </tr>\n",
       "    <tr>\n",
       "      <th>3</th>\n",
       "      <td>1100049</td>\n",
       "      <td>Cacoal</td>\n",
       "      <td>RO</td>\n",
       "      <td>3793.000</td>\n",
       "      <td>POLYGON ((-61.35502 -11.50452, -61.35524 -11.5...</td>\n",
       "    </tr>\n",
       "    <tr>\n",
       "      <th>4</th>\n",
       "      <td>1100056</td>\n",
       "      <td>Cerejeiras</td>\n",
       "      <td>RO</td>\n",
       "      <td>2783.300</td>\n",
       "      <td>POLYGON ((-60.82135 -13.11910, -60.81773 -13.1...</td>\n",
       "    </tr>\n",
       "  </tbody>\n",
       "</table>\n",
       "</div>"
      ],
      "text/plain": [
       "    CD_MUN                 NM_MUN SIGLA_UF  AREA_KM2  \\\n",
       "0  1100015  Alta Floresta D'Oeste       RO  7067.127   \n",
       "1  1100023              Ariquemes       RO  4426.571   \n",
       "2  1100031                 Cabixi       RO  1314.352   \n",
       "3  1100049                 Cacoal       RO  3793.000   \n",
       "4  1100056             Cerejeiras       RO  2783.300   \n",
       "\n",
       "                                            geometry  \n",
       "0  POLYGON ((-62.00806 -12.13379, -62.00784 -12.2...  \n",
       "1  POLYGON ((-63.17933 -10.13924, -63.17746 -10.1...  \n",
       "2  POLYGON ((-60.52408 -13.32137, -60.37162 -13.3...  \n",
       "3  POLYGON ((-61.35502 -11.50452, -61.35524 -11.5...  \n",
       "4  POLYGON ((-60.82135 -13.11910, -60.81773 -13.1...  "
      ]
     },
     "execution_count": 3,
     "metadata": {},
     "output_type": "execute_result"
    }
   ],
   "source": [
    "# URL do arquivo shapefile\n",
    "url = 'https://geoftp.ibge.gov.br/organizacao_do_territorio/malhas_territoriais/malhas_municipais/municipio_2022/Brasil/BR/BR_Municipios_2022.zip'\n",
    "\n",
    "# Lendo o arquivo shapefile\n",
    "geo_brasil = gp.read_file(url)\n",
    "\n",
    "# geo_brasil = gp.GeoDataFrame(geo_brasil)\n",
    "# geo_brasil = geo_brasil.set_geometry('geometry')\n",
    "\n",
    "# Definindo o diretório e nome do arquivo\n",
    "dir_arquivo = 'C:/Users/crash/Desktop/'\n",
    "nome_arquivo = 'raw_geo_brasil.shp'\n",
    "\n",
    "# Salvando o arquivo shapefile no diretório escolhido\n",
    "geo_brasil.to_file(dir_arquivo + nome_arquivo, driver='ESRI Shapefile')\n",
    "\n",
    "# Visualizando as primeiras linhas do dataframe\n",
    "geo_brasil.head()\n"
   ]
  },
  {
   "cell_type": "code",
   "execution_count": 4,
   "id": "6e1c121e",
   "metadata": {},
   "outputs": [],
   "source": [
    "geo_brasil.to_file('raw_geo_brasil.shp', driver='ESRI Shapefile')"
   ]
  },
  {
   "cell_type": "code",
   "execution_count": null,
   "id": "76612ca7",
   "metadata": {},
   "outputs": [],
   "source": []
  },
  {
   "cell_type": "code",
   "execution_count": null,
   "id": "f560697b",
   "metadata": {},
   "outputs": [],
   "source": []
  },
  {
   "cell_type": "code",
   "execution_count": 6,
   "id": "8676b8ba",
   "metadata": {},
   "outputs": [],
   "source": [
    "# URL do arquivo shapefile\n",
    "url = 'https://geoftp.ibge.gov.br/organizacao_do_territorio/malhas_territoriais/malhas_municipais/municipio_2022/Brasil/BR/BR_Municipios_2022.zip'\n",
    "\n",
    "# Lendo o arquivo shapefile\n",
    "geo_brasil = gp.read_file(url)\n",
    "\n"
   ]
  },
  {
   "cell_type": "code",
   "execution_count": 7,
   "id": "68f514c1",
   "metadata": {},
   "outputs": [
    {
     "name": "stdout",
     "output_type": "stream",
     "text": [
      "EPSG:4674\n"
     ]
    }
   ],
   "source": [
    "crs = geo_brasil.crs\n",
    "print(crs)"
   ]
  },
  {
   "cell_type": "code",
   "execution_count": null,
   "id": "3c9c4c88",
   "metadata": {},
   "outputs": [],
   "source": []
  },
  {
   "cell_type": "code",
   "execution_count": null,
   "id": "0b003ffe",
   "metadata": {},
   "outputs": [],
   "source": []
  },
  {
   "cell_type": "code",
   "execution_count": 9,
   "id": "9a725c6c",
   "metadata": {},
   "outputs": [],
   "source": [
    "raw_new = gp.read_file('https://ookla-open-data.s3-us-west-2.amazonaws.com/shapefiles/performance/type=mobile/year=2023/quarter=1/2023-01-01_performance_mobile_tiles.zip')"
   ]
  },
  {
   "cell_type": "code",
   "execution_count": 14,
   "id": "6335c6e5",
   "metadata": {},
   "outputs": [],
   "source": [
    "raw_new_2 = raw_new.to_crs(epsg=4674)\n"
   ]
  },
  {
   "cell_type": "code",
   "execution_count": 61,
   "id": "982d672f",
   "metadata": {},
   "outputs": [
    {
     "name": "stdout",
     "output_type": "stream",
     "text": [
      "EPSG:4326\n"
     ]
    }
   ],
   "source": [
    "crs = raw_new.crs\n",
    "print(crs)"
   ]
  },
  {
   "cell_type": "code",
   "execution_count": 15,
   "id": "b0c0678f",
   "metadata": {},
   "outputs": [
    {
     "name": "stdout",
     "output_type": "stream",
     "text": [
      "EPSG:4674\n"
     ]
    }
   ],
   "source": [
    "crs = raw_new_2.crs\n",
    "print(crs)"
   ]
  },
  {
   "cell_type": "code",
   "execution_count": 12,
   "id": "858cd6ae",
   "metadata": {},
   "outputs": [
    {
     "data": {
      "text/plain": [
       "(3730549, 7)"
      ]
     },
     "execution_count": 12,
     "metadata": {},
     "output_type": "execute_result"
    }
   ],
   "source": [
    "raw_new.shape"
   ]
  },
  {
   "cell_type": "code",
   "execution_count": 60,
   "id": "d88a24c6",
   "metadata": {},
   "outputs": [
    {
     "name": "stdout",
     "output_type": "stream",
     "text": [
      "                                            geometry\n",
      "0  POLYGON ((-62.00806 -12.13379, -62.00784 -12.2...\n",
      "1  POLYGON ((-63.17933 -10.13924, -63.17746 -10.1...\n",
      "2  POLYGON ((-60.52408 -13.32137, -60.37162 -13.3...\n",
      "3  POLYGON ((-61.35502 -11.50452, -61.35524 -11.5...\n",
      "4  POLYGON ((-60.82135 -13.11910, -60.81773 -13.1...\n"
     ]
    }
   ],
   "source": [
    "# URL do arquivo shapefile\n",
    "url = 'https://geoftp.ibge.gov.br/organizacao_do_territorio/malhas_territoriais/malhas_municipais/municipio_2022/Brasil/BR/BR_Municipios_2022.zip'\n",
    "\n",
    "# Lendo o arquivo shapefile\n",
    "geo_brasil = gp.read_file(url)\n",
    "\n",
    "geo_brasil = geo_brasil['geometry']\n",
    "geo_brasil = gp.GeoDataFrame(geo_brasil)\n",
    "geo_brasil = geo_brasil.set_geometry('geometry')\n",
    "# Visualizando as primeiras linhas do dataframe\n",
    "print(geo_brasil.head())"
   ]
  },
  {
   "cell_type": "code",
   "execution_count": 62,
   "id": "56a904b9",
   "metadata": {},
   "outputs": [],
   "source": [
    "teste = gp.sjoin(raw_new_2, geo_brasil, how=\"inner\", predicate='intersects')"
   ]
  },
  {
   "cell_type": "code",
   "execution_count": 63,
   "id": "f84a9eae",
   "metadata": {},
   "outputs": [
    {
     "data": {
      "text/plain": [
       "(113092, 8)"
      ]
     },
     "execution_count": 63,
     "metadata": {},
     "output_type": "execute_result"
    }
   ],
   "source": [
    "teste.shape"
   ]
  },
  {
   "cell_type": "code",
   "execution_count": 45,
   "id": "355b5b04",
   "metadata": {},
   "outputs": [],
   "source": [
    "geo_brasil = geo_brasil.set_geometry('geometry')"
   ]
  },
  {
   "cell_type": "code",
   "execution_count": 69,
   "id": "1c36c16b",
   "metadata": {},
   "outputs": [],
   "source": [
    "teste2 = gp.sjoin(teste, geo_brasil, how=\"inner\", predicate='intersects')\n"
   ]
  },
  {
   "cell_type": "code",
   "execution_count": 70,
   "id": "baa020d6",
   "metadata": {},
   "outputs": [
    {
     "data": {
      "text/plain": [
       "(113092, 7)"
      ]
     },
     "execution_count": 70,
     "metadata": {},
     "output_type": "execute_result"
    }
   ],
   "source": [
    "teste.shape"
   ]
  },
  {
   "cell_type": "code",
   "execution_count": 42,
   "id": "77653133",
   "metadata": {},
   "outputs": [],
   "source": [
    "geo_brasil = geo_brasil.rename(columns={'geometry_right': 'geometry'})\n"
   ]
  },
  {
   "cell_type": "code",
   "execution_count": 67,
   "id": "9e7f56da",
   "metadata": {},
   "outputs": [],
   "source": [
    "teste.drop('index_right', axis=1, inplace=True)\n"
   ]
  },
  {
   "cell_type": "code",
   "execution_count": 68,
   "id": "e059d2ee",
   "metadata": {},
   "outputs": [
    {
     "data": {
      "text/html": [
       "<div>\n",
       "<style scoped>\n",
       "    .dataframe tbody tr th:only-of-type {\n",
       "        vertical-align: middle;\n",
       "    }\n",
       "\n",
       "    .dataframe tbody tr th {\n",
       "        vertical-align: top;\n",
       "    }\n",
       "\n",
       "    .dataframe thead th {\n",
       "        text-align: right;\n",
       "    }\n",
       "</style>\n",
       "<table border=\"1\" class=\"dataframe\">\n",
       "  <thead>\n",
       "    <tr style=\"text-align: right;\">\n",
       "      <th></th>\n",
       "      <th>quadkey</th>\n",
       "      <th>avg_d_kbps</th>\n",
       "      <th>avg_u_kbps</th>\n",
       "      <th>avg_lat_ms</th>\n",
       "      <th>tests</th>\n",
       "      <th>devices</th>\n",
       "      <th>geometry</th>\n",
       "    </tr>\n",
       "  </thead>\n",
       "  <tbody>\n",
       "    <tr>\n",
       "      <th>899991</th>\n",
       "      <td>0323230032002313</td>\n",
       "      <td>13087</td>\n",
       "      <td>7593</td>\n",
       "      <td>72</td>\n",
       "      <td>1</td>\n",
       "      <td>1</td>\n",
       "      <td>POLYGON ((-61.13342 4.49429, -61.12793 4.49429...</td>\n",
       "    </tr>\n",
       "    <tr>\n",
       "      <th>899992</th>\n",
       "      <td>0323230032002321</td>\n",
       "      <td>15614</td>\n",
       "      <td>15618</td>\n",
       "      <td>71</td>\n",
       "      <td>8</td>\n",
       "      <td>6</td>\n",
       "      <td>POLYGON ((-61.14441 4.48881, -61.13892 4.48881...</td>\n",
       "    </tr>\n",
       "    <tr>\n",
       "      <th>899993</th>\n",
       "      <td>0323230032002322</td>\n",
       "      <td>9363</td>\n",
       "      <td>3573</td>\n",
       "      <td>86</td>\n",
       "      <td>21</td>\n",
       "      <td>8</td>\n",
       "      <td>POLYGON ((-61.14990 4.48333, -61.14441 4.48333...</td>\n",
       "    </tr>\n",
       "    <tr>\n",
       "      <th>899994</th>\n",
       "      <td>0323230032002323</td>\n",
       "      <td>11794</td>\n",
       "      <td>9973</td>\n",
       "      <td>114</td>\n",
       "      <td>28</td>\n",
       "      <td>7</td>\n",
       "      <td>POLYGON ((-61.14441 4.48333, -61.13892 4.48333...</td>\n",
       "    </tr>\n",
       "    <tr>\n",
       "      <th>899995</th>\n",
       "      <td>0323230032002330</td>\n",
       "      <td>32003</td>\n",
       "      <td>23343</td>\n",
       "      <td>118</td>\n",
       "      <td>2</td>\n",
       "      <td>2</td>\n",
       "      <td>POLYGON ((-61.13892 4.48881, -61.13342 4.48881...</td>\n",
       "    </tr>\n",
       "  </tbody>\n",
       "</table>\n",
       "</div>"
      ],
      "text/plain": [
       "                 quadkey  avg_d_kbps  avg_u_kbps  avg_lat_ms  tests  devices  \\\n",
       "899991  0323230032002313       13087        7593          72      1        1   \n",
       "899992  0323230032002321       15614       15618          71      8        6   \n",
       "899993  0323230032002322        9363        3573          86     21        8   \n",
       "899994  0323230032002323       11794        9973         114     28        7   \n",
       "899995  0323230032002330       32003       23343         118      2        2   \n",
       "\n",
       "                                                 geometry  \n",
       "899991  POLYGON ((-61.13342 4.49429, -61.12793 4.49429...  \n",
       "899992  POLYGON ((-61.14441 4.48881, -61.13892 4.48881...  \n",
       "899993  POLYGON ((-61.14990 4.48333, -61.14441 4.48333...  \n",
       "899994  POLYGON ((-61.14441 4.48333, -61.13892 4.48333...  \n",
       "899995  POLYGON ((-61.13892 4.48881, -61.13342 4.48881...  "
      ]
     },
     "execution_count": 68,
     "metadata": {},
     "output_type": "execute_result"
    }
   ],
   "source": [
    "teste.head()"
   ]
  },
  {
   "cell_type": "code",
   "execution_count": null,
   "id": "a0cf3205",
   "metadata": {},
   "outputs": [],
   "source": []
  },
  {
   "cell_type": "code",
   "execution_count": 24,
   "id": "1c447ee8",
   "metadata": {},
   "outputs": [],
   "source": [
    "geo_brasil = geo_brasil.set_geometry('geometry_right')"
   ]
  }
 ],
 "metadata": {
  "kernelspec": {
   "display_name": "Python 3 (ipykernel)",
   "language": "python",
   "name": "python3"
  },
  "language_info": {
   "codemirror_mode": {
    "name": "ipython",
    "version": 3
   },
   "file_extension": ".py",
   "mimetype": "text/x-python",
   "name": "python",
   "nbconvert_exporter": "python",
   "pygments_lexer": "ipython3",
   "version": "3.9.13"
  }
 },
 "nbformat": 4,
 "nbformat_minor": 5
}
